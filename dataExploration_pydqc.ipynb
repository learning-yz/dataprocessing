{
 "cells": [
  {
   "cell_type": "code",
   "execution_count": 1,
   "id": "bed4d7d4",
   "metadata": {},
   "outputs": [],
   "source": [
    "import pandas as pd\n",
    "from pydqc import infer_schema, data_summary, data_compare, data_consist\n",
    "# 将上面4个函数中的\n",
    "# from sklearn.externals.joblib import Parallel, delayed\n",
    "# 修改为\n",
    "# from joblib import Parallel, delayed"
   ]
  },
  {
   "cell_type": "markdown",
   "id": "3ae4e683",
   "metadata": {},
   "source": [
    "该package最后更新时间为2018年，可能不再维护了，更推荐使用pandas-profiling(已更新为ydata-profiling)进行数据探索\n",
    "- 使用data_summary查看数据概况(比如字段空值率，unique的数量，数值类型字段的最小（大）值，中位数，平均数)\n",
    "- 使用data_compare查看不同组之间的差异（比如查看正负样本在同一字段上的不同表现）\n",
    "- 使用data_consist查看同一组在不同时间段的对比差异"
   ]
  },
  {
   "cell_type": "code",
   "execution_count": 2,
   "id": "41db16f2",
   "metadata": {},
   "outputs": [],
   "source": [
    "input_file = 'D:\\\\Dev\\\\Data\\\\Walmart\\\\train.csv'\n",
    "output_dir  = 'D:\\\\Dev\\\\Data\\\\Walmart\\\\dataExploration\\\\'"
   ]
  },
  {
   "cell_type": "code",
   "execution_count": 3,
   "id": "a5cdf4b0",
   "metadata": {},
   "outputs": [],
   "source": [
    "dat = pd.read_csv('D:\\\\Dev\\\\Data\\\\Walmart\\\\train.csv')"
   ]
  },
  {
   "cell_type": "code",
   "execution_count": 4,
   "id": "04e9c4fb",
   "metadata": {},
   "outputs": [
    {
     "data": {
      "text/html": [
       "<div>\n",
       "<style scoped>\n",
       "    .dataframe tbody tr th:only-of-type {\n",
       "        vertical-align: middle;\n",
       "    }\n",
       "\n",
       "    .dataframe tbody tr th {\n",
       "        vertical-align: top;\n",
       "    }\n",
       "\n",
       "    .dataframe thead th {\n",
       "        text-align: right;\n",
       "    }\n",
       "</style>\n",
       "<table border=\"1\" class=\"dataframe\">\n",
       "  <thead>\n",
       "    <tr style=\"text-align: right;\">\n",
       "      <th></th>\n",
       "      <th>TripType</th>\n",
       "      <th>VisitNumber</th>\n",
       "      <th>Weekday</th>\n",
       "      <th>Upc</th>\n",
       "      <th>ScanCount</th>\n",
       "      <th>DepartmentDescription</th>\n",
       "      <th>FinelineNumber</th>\n",
       "    </tr>\n",
       "  </thead>\n",
       "  <tbody>\n",
       "    <tr>\n",
       "      <th>0</th>\n",
       "      <td>999</td>\n",
       "      <td>5</td>\n",
       "      <td>Friday</td>\n",
       "      <td>6.811315e+10</td>\n",
       "      <td>-1</td>\n",
       "      <td>FINANCIAL SERVICES</td>\n",
       "      <td>1000.0</td>\n",
       "    </tr>\n",
       "    <tr>\n",
       "      <th>1</th>\n",
       "      <td>30</td>\n",
       "      <td>7</td>\n",
       "      <td>Friday</td>\n",
       "      <td>6.053882e+10</td>\n",
       "      <td>1</td>\n",
       "      <td>SHOES</td>\n",
       "      <td>8931.0</td>\n",
       "    </tr>\n",
       "    <tr>\n",
       "      <th>2</th>\n",
       "      <td>30</td>\n",
       "      <td>7</td>\n",
       "      <td>Friday</td>\n",
       "      <td>7.410811e+09</td>\n",
       "      <td>1</td>\n",
       "      <td>PERSONAL CARE</td>\n",
       "      <td>4504.0</td>\n",
       "    </tr>\n",
       "    <tr>\n",
       "      <th>3</th>\n",
       "      <td>26</td>\n",
       "      <td>8</td>\n",
       "      <td>Friday</td>\n",
       "      <td>2.238404e+09</td>\n",
       "      <td>2</td>\n",
       "      <td>PAINT AND ACCESSORIES</td>\n",
       "      <td>3565.0</td>\n",
       "    </tr>\n",
       "    <tr>\n",
       "      <th>4</th>\n",
       "      <td>26</td>\n",
       "      <td>8</td>\n",
       "      <td>Friday</td>\n",
       "      <td>2.006614e+09</td>\n",
       "      <td>2</td>\n",
       "      <td>PAINT AND ACCESSORIES</td>\n",
       "      <td>1017.0</td>\n",
       "    </tr>\n",
       "  </tbody>\n",
       "</table>\n",
       "</div>"
      ],
      "text/plain": [
       "   TripType  VisitNumber Weekday           Upc  ScanCount  \\\n",
       "0       999            5  Friday  6.811315e+10         -1   \n",
       "1        30            7  Friday  6.053882e+10          1   \n",
       "2        30            7  Friday  7.410811e+09          1   \n",
       "3        26            8  Friday  2.238404e+09          2   \n",
       "4        26            8  Friday  2.006614e+09          2   \n",
       "\n",
       "   DepartmentDescription  FinelineNumber  \n",
       "0     FINANCIAL SERVICES          1000.0  \n",
       "1                  SHOES          8931.0  \n",
       "2          PERSONAL CARE          4504.0  \n",
       "3  PAINT AND ACCESSORIES          3565.0  \n",
       "4  PAINT AND ACCESSORIES          1017.0  "
      ]
     },
     "execution_count": 4,
     "metadata": {},
     "output_type": "execute_result"
    }
   ],
   "source": [
    "dat.head()"
   ]
  },
  {
   "cell_type": "code",
   "execution_count": 5,
   "id": "c6ec10f1",
   "metadata": {},
   "outputs": [
    {
     "name": "stdout",
     "output_type": "stream",
     "text": [
      "(647054, 7)\n"
     ]
    }
   ],
   "source": [
    "print(dat.shape)"
   ]
  },
  {
   "cell_type": "markdown",
   "id": "921167fa",
   "metadata": {},
   "source": [
    "### Step1: 使用infer_schema推断表结构，为后续使用提供基础"
   ]
  },
  {
   "cell_type": "code",
   "execution_count": 6,
   "id": "686294a5",
   "metadata": {},
   "outputs": [],
   "source": [
    "# 如果数据量比较大，可以设置simple_size参数，例如simple_size=0.1\n",
    "infer_schema.infer_schema(data=dat, fname='dat20230311', output_root=output_dir, base_schema=None)"
   ]
  },
  {
   "cell_type": "code",
   "execution_count": 7,
   "id": "89dafa8d",
   "metadata": {},
   "outputs": [],
   "source": [
    "# 修改在output_dir目录下生成的schema文件(可能会有一些误判要修正)，并重新命名，例如加后缀mdf"
   ]
  },
  {
   "cell_type": "markdown",
   "id": "3da36e5b",
   "metadata": {},
   "source": [
    "### Step2：使用data_summary生成数据概况"
   ]
  },
  {
   "cell_type": "code",
   "execution_count": 8,
   "id": "66dee69b",
   "metadata": {},
   "outputs": [
    {
     "data": {
      "image/png": "[encoded data removed]",
      "text/plain": [
       "<Figure size 635x317.5 with 1 Axes>"
      ]
     },
     "metadata": {},
     "output_type": "display_data"
    }
   ],
   "source": [
    "dat_schema = pd.read_excel(output_dir + 'data_schema_dat20230311_mdf.xlsx')\n",
    "data_summary.data_summary(table_schema=dat_schema, table=dat, fname='dat20230311', output_root=output_dir)\n",
    "# 会把结果输出到Excel文件中"
   ]
  },
  {
   "cell_type": "code",
   "execution_count": 9,
   "id": "a171f613",
   "metadata": {},
   "outputs": [],
   "source": [
    "# data_summary_notebook生成数据概况的python代码（但感觉一般不需要，看上面输出的Excel文件即可）\n",
    "data_summary.data_summary_notebook(table_schema=dat_schema, table=dat, fname='dat20230311', output_root=output_dir)"
   ]
  },
  {
   "cell_type": "markdown",
   "id": "ef0183c6",
   "metadata": {},
   "source": [
    "### Step3：使用data_compare查看不同组之间的差异"
   ]
  },
  {
   "cell_type": "code",
   "execution_count": 10,
   "id": "66689711",
   "metadata": {},
   "outputs": [
    {
     "name": "stdout",
     "output_type": "stream",
     "text": [
      "(95504, 7)\n",
      "(174164, 7)\n"
     ]
    }
   ],
   "source": [
    "# 这里随机挑选两个组进行对比\n",
    "dat['TripType'] = dat.TripType.astype(str)\n",
    "group1 = dat[dat.TripType=='39']\n",
    "group2 = dat[dat.TripType=='40']\n",
    "print(group1.shape)\n",
    "print(group2.shape)"
   ]
  },
  {
   "cell_type": "code",
   "execution_count": 11,
   "id": "ebf83209",
   "metadata": {},
   "outputs": [
    {
     "data": {
      "image/png": "[encoded data removed]",
      "text/plain": [
       "<Figure size 635x423.333 with 1 Axes>"
      ]
     },
     "metadata": {},
     "output_type": "display_data"
    }
   ],
   "source": [
    "data_compare.data_compare(table1= group1\n",
    "                          , table2 = group2\n",
    "                          , schema1 = dat_schema\n",
    "                          , schema2 = dat_schema\n",
    "                          , fname = 'dat20230311'\n",
    "                          , output_root = output_dir\n",
    "                )"
   ]
  },
  {
   "cell_type": "code",
   "execution_count": 12,
   "id": "fd397489",
   "metadata": {},
   "outputs": [],
   "source": [
    "# data_compare_notebook生成对比的代码（但感觉一般不需要，看上面输出的Excel文件即可）\n",
    "data_compare.data_compare_notebook(table1= group1\n",
    "                          , table2 = group2\n",
    "                          , schema1 = dat_schema\n",
    "                          , schema2 = dat_schema\n",
    "                          , fname = 'dat20230311'\n",
    "                          , output_root = output_dir\n",
    "                )"
   ]
  },
  {
   "cell_type": "markdown",
   "id": "e47e657b",
   "metadata": {},
   "source": [
    "### Step4: 使用data_consist查看同一组在不同时间段的对比差异"
   ]
  },
  {
   "cell_type": "code",
   "execution_count": 13,
   "id": "d5d81c07",
   "metadata": {},
   "outputs": [],
   "source": [
    "# 这里的数据不适用这个，一般来说group1和group2里面的需要有重复的主键，比如id，通过把这两个集合用主键进行join，\n",
    "# 然后对比各个字段的一个情况（使用在同一个东西在不同时间段的对比上）\n",
    "# data_consist.data_consist(table1= group1\n",
    "#                           , table2 = group2\n",
    "#                           , key1 = 'id'\n",
    "#                           , key2 = 'id'\n",
    "#                           , schema1 = dat_schema\n",
    "#                           , schema2 = dat_schema\n",
    "#                           , fname = 'dat20230311'\n",
    "#                           , output_root = output_dir\n",
    "#                 )"
   ]
  },
  {
   "cell_type": "code",
   "execution_count": 14,
   "id": "c9b3935b",
   "metadata": {},
   "outputs": [],
   "source": [
    "# data_consist_notebook生成同一组对比的代码（但感觉一般不需要，看上面输出的Excel文件即可）\n",
    "# data_consist.data_consist_notebook(table1= group1\n",
    "#                           , table2 = group2\n",
    "#                           , key1 = 'id'\n",
    "#                           , key2 = 'id'\n",
    "#                           , schema1 = dat_schema\n",
    "#                           , schema2 = dat_schema\n",
    "#                           , fname = 'dat20230311'\n",
    "#                           , output_root = output_dir\n",
    "#                 )"
   ]
  }
 ],
 "metadata": {
  "kernelspec": {
   "display_name": "Python 3 (ipykernel)",
   "language": "python",
   "name": "python3"
  },
  "language_info": {
   "codemirror_mode": {
    "name": "ipython",
    "version": 3
   },
   "file_extension": ".py",
   "mimetype": "text/x-python",
   "name": "python",
   "nbconvert_exporter": "python",
   "pygments_lexer": "ipython3",
   "version": "3.10.9"
  }
 },
 "nbformat": 4,
 "nbformat_minor": 5
}
