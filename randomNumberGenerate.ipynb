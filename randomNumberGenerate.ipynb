{
 "cells": [
  {
   "cell_type": "markdown",
   "metadata": {},
   "source": [
    "### numpy中random模块"
   ]
  },
  {
   "cell_type": "code",
   "execution_count": 1,
   "metadata": {},
   "outputs": [],
   "source": [
    "import numpy as np"
   ]
  },
  {
   "cell_type": "markdown",
   "metadata": {},
   "source": [
    "### 总结："
   ]
  },
  {
   "cell_type": "code",
   "execution_count": 2,
   "metadata": {},
   "outputs": [],
   "source": [
    "# 需要生成浮点数，建议用np.random.uniform，可以改变数值上下限；\n",
    "# 需要生成0-1之间的浮点数，则np.random.random_sample, np.random.rand也可以；\n",
    "# 需要生成整数，建议用np.random.randint;\n",
    "# 需要生成标准正态分布（均值为0，标准差为1的数据分布），则使用np.random.randn;\n",
    "\n",
    "# 如果需要每次生成的随机数不变，则在生成执行：np.random.seed(1)"
   ]
  },
  {
   "cell_type": "markdown",
   "metadata": {},
   "source": [
    "#### 1. np.random.uniform"
   ]
  },
  {
   "cell_type": "code",
   "execution_count": 3,
   "metadata": {},
   "outputs": [
    {
     "data": {
      "text/plain": [
       "array([19.52924978,  6.72376677, 14.35323228,  8.3003184 , 16.10488807,\n",
       "        3.1493444 ,  1.78723053, 12.19634802, 15.56124976, 11.87462619])"
      ]
     },
     "execution_count": 3,
     "metadata": {},
     "output_type": "execute_result"
    }
   ],
   "source": [
    "# 生成满足uniform分布的随机数，数值在[low, high)之间, size指定生成随机数的个数\n",
    "# low默认是0，也可以是数组类型的\n",
    "# high默认是1.0， 也可以是数组类型的\n",
    "# size默认是None，只返回一个值, size也可以是个数组形式(a, b)\n",
    "np.random.uniform(low=1.0, high=20, size=10)"
   ]
  },
  {
   "cell_type": "code",
   "execution_count": 4,
   "metadata": {},
   "outputs": [
    {
     "data": {
      "text/plain": [
       "array([[1.14992911, 1.40691802, 1.83489141, 1.58998593, 1.83676883],\n",
       "       [1.88696704, 1.61382854, 1.17204963, 1.80706406, 1.57488663],\n",
       "       [1.38165321, 1.79086964, 1.13949326, 1.25928701, 1.01213157]])"
      ]
     },
     "execution_count": 4,
     "metadata": {},
     "output_type": "execute_result"
    }
   ],
   "source": [
    "np.random.uniform(low=1.0, high=2.0, size=(3, 5))"
   ]
  },
  {
   "cell_type": "code",
   "execution_count": 5,
   "metadata": {},
   "outputs": [
    {
     "data": {
      "text/plain": [
       "array([ 5.12940051,  5.33761462, 11.56683572])"
      ]
     },
     "execution_count": 5,
     "metadata": {},
     "output_type": "execute_result"
    }
   ],
   "source": [
    "np.random.uniform(low=[3, 5, 7], high=[10, 12, 19]) \n",
    "# 分别生成3~10， 5~12， 7~19的三个数"
   ]
  },
  {
   "cell_type": "markdown",
   "metadata": {},
   "source": [
    "#### 2.np.random.random_sample"
   ]
  },
  {
   "cell_type": "code",
   "execution_count": 6,
   "metadata": {},
   "outputs": [
    {
     "data": {
      "text/plain": [
       "array([0.48898517, 0.23139943, 0.7798802 , 0.11120246, 0.98599462])"
      ]
     },
     "execution_count": 6,
     "metadata": {},
     "output_type": "execute_result"
    }
   ],
   "source": [
    "# 生成随机数，数值在[0.0, 1.0)之间，随机数数量由size指定\n",
    "np.random.random_sample(size=5)"
   ]
  },
  {
   "cell_type": "code",
   "execution_count": 7,
   "metadata": {},
   "outputs": [
    {
     "data": {
      "text/plain": [
       "array([[0.2872476 , 0.27546965, 0.55006964, 0.83909891],\n",
       "       [0.59186074, 0.66675075, 0.60040975, 0.84551058]])"
      ]
     },
     "execution_count": 7,
     "metadata": {},
     "output_type": "execute_result"
    }
   ],
   "source": [
    "np.random.random_sample(size=(2, 4))"
   ]
  },
  {
   "cell_type": "markdown",
   "metadata": {},
   "source": [
    "#### 3. np.random.rand"
   ]
  },
  {
   "cell_type": "code",
   "execution_count": 8,
   "metadata": {},
   "outputs": [
    {
     "data": {
      "text/plain": [
       "array([[[0.54277398, 0.39465514],\n",
       "        [0.79704661, 0.78014503],\n",
       "        [0.15817264, 0.74042691],\n",
       "        [0.67939215, 0.83099547]],\n",
       "\n",
       "       [[0.99674243, 0.63497307],\n",
       "        [0.29977681, 0.61244588],\n",
       "        [0.28211369, 0.7761667 ],\n",
       "        [0.99342979, 0.36050149]],\n",
       "\n",
       "       [[0.7400107 , 0.82195026],\n",
       "        [0.22984244, 0.31325368],\n",
       "        [0.98231631, 0.68743982],\n",
       "        [0.85924822, 0.71171259]]])"
      ]
     },
     "execution_count": 8,
     "metadata": {},
     "output_type": "execute_result"
    }
   ],
   "source": [
    "# 生成随机数，数值在[0.0, 1.0）之间的数值，随机数数量由参数指定\n",
    "np.random.rand(3, 4, 2)"
   ]
  },
  {
   "cell_type": "markdown",
   "metadata": {},
   "source": [
    "#### 4. np.random.randint"
   ]
  },
  {
   "cell_type": "code",
   "execution_count": 9,
   "metadata": {},
   "outputs": [],
   "source": [
    "# 生成整形随机数，数值大小在[low, high)之间，随机数数量由size指定"
   ]
  },
  {
   "cell_type": "code",
   "execution_count": 10,
   "metadata": {},
   "outputs": [
    {
     "data": {
      "text/plain": [
       "array([[16, 16, 18, 19],\n",
       "       [18, 16, 13, 11]])"
      ]
     },
     "execution_count": 10,
     "metadata": {},
     "output_type": "execute_result"
    }
   ],
   "source": [
    "np.random.randint(low=10, high=20, size=(2, 4))"
   ]
  },
  {
   "cell_type": "markdown",
   "metadata": {},
   "source": [
    "#### 5. np.random.randn"
   ]
  },
  {
   "cell_type": "code",
   "execution_count": 11,
   "metadata": {},
   "outputs": [
    {
     "data": {
      "text/plain": [
       "array([ 1.07537389, -0.77353239,  0.11146828, -1.64650428, -0.61726682,\n",
       "       -0.4408966 ,  0.21344793,  0.97309523, -1.12222846,  1.10096715])"
      ]
     },
     "execution_count": 11,
     "metadata": {},
     "output_type": "execute_result"
    }
   ],
   "source": [
    "# 标准正态分布的采样(均值为0，标准差为1)\n",
    "np.random.randn(10)"
   ]
  },
  {
   "cell_type": "code",
   "execution_count": 12,
   "metadata": {},
   "outputs": [
    {
     "data": {
      "text/plain": [
       "array([[ 0.72799503,  0.421387  ],\n",
       "       [ 0.12909335,  0.8893025 ],\n",
       "       [ 0.28039914, -0.93177832],\n",
       "       [ 0.6183802 , -1.71672159],\n",
       "       [ 1.46031376, -0.24516172],\n",
       "       [-0.87014426,  0.86020568],\n",
       "       [ 0.60522827,  1.11006487],\n",
       "       [-0.93646946,  1.33301367],\n",
       "       [ 1.38840324, -0.27789891],\n",
       "       [ 0.30381896, -1.09704858]])"
      ]
     },
     "execution_count": 12,
     "metadata": {},
     "output_type": "execute_result"
    }
   ],
   "source": [
    "np.random.randn(10,2)"
   ]
  },
  {
   "cell_type": "code",
   "execution_count": 13,
   "metadata": {},
   "outputs": [
    {
     "data": {
      "text/plain": [
       "array([17.21436147, 19.66204353, 23.20407688, 19.05585274, 22.80328165,\n",
       "       19.79346844, 23.0155304 , 13.3956809 , 20.73256277, 18.63043351])"
      ]
     },
     "execution_count": 13,
     "metadata": {},
     "output_type": "execute_result"
    }
   ],
   "source": [
    "# 如果想生成均值为mu，标准差为sigma的正态分布\n",
    "sigma = 3\n",
    "mu = 20\n",
    "sigma * np.random.randn(10) + mu"
   ]
  }
 ],
 "metadata": {
  "kernelspec": {
   "display_name": "Python 3 (ipykernel)",
   "language": "python",
   "name": "python3"
  },
  "language_info": {
   "codemirror_mode": {
    "name": "ipython",
    "version": 3
   },
   "file_extension": ".py",
   "mimetype": "text/x-python",
   "name": "python",
   "nbconvert_exporter": "python",
   "pygments_lexer": "ipython3",
   "version": "3.10.9"
  }
 },
 "nbformat": 4,
 "nbformat_minor": 2
}
