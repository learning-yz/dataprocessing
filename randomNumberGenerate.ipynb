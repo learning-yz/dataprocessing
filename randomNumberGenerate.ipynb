{
 "cells": [
  {
   "cell_type": "markdown",
   "metadata": {},
   "source": [
    "### numpy中random模块"
   ]
  },
  {
   "cell_type": "code",
   "execution_count": 1,
   "metadata": {},
   "outputs": [],
   "source": [
    "import numpy as np"
   ]
  },
  {
   "cell_type": "code",
   "execution_count": 2,
   "metadata": {},
   "outputs": [],
   "source": [
    "# 总结：\n",
    "# 需要生成浮点数，建议用np.random.uniform，可以改变数值上下限；\n",
    "# 需要生成0-1之间的浮点数，则np.random.random_sample, np.random.rand也可以；\n",
    "# 需要生成整数，建议用np.random.randint;"
   ]
  },
  {
   "cell_type": "markdown",
   "metadata": {},
   "source": [
    "#### 1. np.random.uniform"
   ]
  },
  {
   "cell_type": "code",
   "execution_count": 3,
   "metadata": {},
   "outputs": [
    {
     "data": {
      "text/plain": [
       "array([14.96546189,  3.25930734, 17.72916611, 13.79613835,  1.31905297,\n",
       "        9.65873958, 11.18820885,  6.93133544,  6.12709601, 10.6089131 ])"
      ]
     },
     "execution_count": 3,
     "metadata": {},
     "output_type": "execute_result"
    }
   ],
   "source": [
    "# 生成满足uniform分布的随机数，数值在[low, high)之间, size指定生成随机数的个数\n",
    "# low默认是0，也可以是数组类型的\n",
    "# high默认是1.0， 也可以是数组类型的\n",
    "# size默认是None，只返回一个值, size也可以是个数组形式(a, b)\n",
    "np.random.uniform(low=1.0, high=20, size=10)"
   ]
  },
  {
   "cell_type": "code",
   "execution_count": 4,
   "metadata": {},
   "outputs": [
    {
     "data": {
      "text/plain": [
       "array([[1.64949947, 1.74139625, 1.84836051, 1.75594918, 1.18349726],\n",
       "       [1.03090178, 1.10214319, 1.22910201, 1.02468345, 1.5961814 ],\n",
       "       [1.8396259 , 1.73150742, 1.51092092, 1.1252429 , 1.16737134]])"
      ]
     },
     "execution_count": 4,
     "metadata": {},
     "output_type": "execute_result"
    }
   ],
   "source": [
    "np.random.uniform(low=1.0, high=2.0, size=(3, 5))"
   ]
  },
  {
   "cell_type": "code",
   "execution_count": 5,
   "metadata": {},
   "outputs": [
    {
     "data": {
      "text/plain": [
       "array([ 9.69780092, 11.15270531,  8.76833455])"
      ]
     },
     "execution_count": 5,
     "metadata": {},
     "output_type": "execute_result"
    }
   ],
   "source": [
    "np.random.uniform(low=[3, 5, 7], high=[10, 12, 19]) \n",
    "# 分别生成3~10， 5~12， 7~19的三个数"
   ]
  },
  {
   "cell_type": "markdown",
   "metadata": {},
   "source": [
    "#### 2.np.random.random_sample"
   ]
  },
  {
   "cell_type": "code",
   "execution_count": 6,
   "metadata": {},
   "outputs": [
    {
     "data": {
      "text/plain": [
       "array([0.08630491, 0.84456741, 0.61651015, 0.08923031, 0.30835068])"
      ]
     },
     "execution_count": 6,
     "metadata": {},
     "output_type": "execute_result"
    }
   ],
   "source": [
    "# 生成随机数，数值在[0.0, 1.0)之间，随机数数量由size指定\n",
    "np.random.random_sample(size=5)"
   ]
  },
  {
   "cell_type": "code",
   "execution_count": 7,
   "metadata": {},
   "outputs": [
    {
     "data": {
      "text/plain": [
       "array([[0.70742855, 0.27856844, 0.91542636, 0.25877437],\n",
       "       [0.63588257, 0.87425613, 0.00740846, 0.16047293]])"
      ]
     },
     "execution_count": 7,
     "metadata": {},
     "output_type": "execute_result"
    }
   ],
   "source": [
    "np.random.random_sample(size=(2, 4))"
   ]
  },
  {
   "cell_type": "markdown",
   "metadata": {},
   "source": [
    "#### 3. np.random.rand"
   ]
  },
  {
   "cell_type": "code",
   "execution_count": 8,
   "metadata": {},
   "outputs": [
    {
     "data": {
      "text/plain": [
       "array([[[0.43442966, 0.47205527],\n",
       "        [0.19392614, 0.47464647],\n",
       "        [0.85697724, 0.70667345],\n",
       "        [0.48698029, 0.99368623]],\n",
       "\n",
       "       [[0.06680528, 0.75166595],\n",
       "        [0.68903373, 0.11599593],\n",
       "        [0.22126782, 0.25593217],\n",
       "        [0.82069643, 0.94929714]],\n",
       "\n",
       "       [[0.19440486, 0.5038324 ],\n",
       "        [0.77469756, 0.63511322],\n",
       "        [0.02943535, 0.35579167],\n",
       "        [0.37883421, 0.61300952]]])"
      ]
     },
     "execution_count": 8,
     "metadata": {},
     "output_type": "execute_result"
    }
   ],
   "source": [
    "# 生成随机数，数值在[0.0, 1.0）之间的数值，随机数数量由参数指定\n",
    "np.random.rand(3, 4, 2)"
   ]
  },
  {
   "cell_type": "markdown",
   "metadata": {},
   "source": [
    "#### 4. np.random.randint"
   ]
  },
  {
   "cell_type": "code",
   "execution_count": 9,
   "metadata": {},
   "outputs": [],
   "source": [
    "# 生成整形随机数，数值大小在[low, high)之间，随机数数量由size指定"
   ]
  },
  {
   "cell_type": "code",
   "execution_count": 10,
   "metadata": {},
   "outputs": [
    {
     "data": {
      "text/plain": [
       "array([[16, 17, 11, 19],\n",
       "       [15, 15, 11, 11]])"
      ]
     },
     "execution_count": 10,
     "metadata": {},
     "output_type": "execute_result"
    }
   ],
   "source": [
    "np.random.randint(low=10, high=20, size=(2, 4))"
   ]
  }
 ],
 "metadata": {
  "kernelspec": {
   "display_name": "Python 3",
   "language": "python",
   "name": "python3"
  },
  "language_info": {
   "codemirror_mode": {
    "name": "ipython",
    "version": 3
   },
   "file_extension": ".py",
   "mimetype": "text/x-python",
   "name": "python",
   "nbconvert_exporter": "python",
   "pygments_lexer": "ipython3",
   "version": "3.7.1"
  }
 },
 "nbformat": 4,
 "nbformat_minor": 2
}
