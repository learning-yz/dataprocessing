{
 "cells": [
  {
   "cell_type": "code",
   "execution_count": 1,
   "metadata": {},
   "outputs": [],
   "source": [
    "import numpy as np\n",
    "import pandas as pd\n",
    "from sklearn.preprocessing import OneHotEncoder, StandardScaler, MaxAbsScaler, MinMaxScaler, RobustScaler"
   ]
  },
  {
   "cell_type": "code",
   "execution_count": 2,
   "metadata": {},
   "outputs": [],
   "source": [
    "from varMergeMethod import varMergeByPct, varMergeByChiSquare , varMergeByIVSplit, categoryToWOE"
   ]
  },
  {
   "cell_type": "code",
   "execution_count": 3,
   "metadata": {},
   "outputs": [],
   "source": [
    "# 本例数据来源：https://www.kaggle.com/c/walmart-recruiting-trip-type-classification/data\n",
    "dat = pd.read_csv('./data/train.csv', dtype={'TripType':'category'\n",
    "                                             ,'VisitNumber':object\n",
    "                                             , 'Upc':object\n",
    "                                             , 'FinelineNumber':object})\n",
    "dat2 = dat.dropna(axis=0, how='any') # 去除空值"
   ]
  },
  {
   "cell_type": "markdown",
   "metadata": {},
   "source": [
    "### 1. 数值变量且可取值较少：\n",
    "a) 不做处理<br>\n",
    "b) 做一些数值变换，例如函数变换（e.g., np.log),标准化(e.g., StandardScaler),归一化(e.g., MinMaxScaler, MaxAbsScaler)<br>\n",
    "c) 做OneHot， 可以参考种类变量直接OneHot的方式"
   ]
  },
  {
   "cell_type": "markdown",
   "metadata": {},
   "source": [
    "### 2. 数值变量且可取值较多\n",
    "a)不做处理<br>\n",
    "b) 做一些数值变换，例如函数变换（e.g., np.log),标准化(e.g., StandardScaler),归一化(e.g., MinMaxScaler, MaxAbsScaler)<br>\n",
    "c) 分箱后做OneHot: 等宽分箱，等深分箱等；分箱数量较多，可以再合并后再做OneHot"
   ]
  },
  {
   "cell_type": "code",
   "execution_count": 4,
   "metadata": {},
   "outputs": [],
   "source": [
    "# 先把问题转换为一个2分类的问题， 将TripType分为40和其他类型\n",
    "dat3 = dat2.copy()\n",
    "dat3.loc[dat3.TripType!='40', 'Label'] = 0\n",
    "dat3.loc[dat3.TripType=='40', 'Label'] = 1\n",
    "dat4 = dat3[['ScanCount', 'Label']].copy()"
   ]
  },
  {
   "cell_type": "code",
   "execution_count": 5,
   "metadata": {},
   "outputs": [
    {
     "data": {
      "text/plain": [
       "count    642925.000000\n",
       "mean          1.110203\n",
       "std           0.701240\n",
       "min         -12.000000\n",
       "25%           1.000000\n",
       "50%           1.000000\n",
       "75%           1.000000\n",
       "max          71.000000\n",
       "Name: ScanCount, dtype: float64"
      ]
     },
     "execution_count": 5,
     "metadata": {},
     "output_type": "execute_result"
    }
   ],
   "source": [
    "dat4.ScanCount.describe()"
   ]
  },
  {
   "cell_type": "code",
   "execution_count": 6,
   "metadata": {},
   "outputs": [
    {
     "data": {
      "text/plain": [
       "array([ -1,   1,   2,   3,   5,   6,   4,  14,  -2,   9,   7,  10,   8,\n",
       "        -3,  -5,  11,  16,  -4,  13,  15,  30,  12,  20,  -6, -12,  19,\n",
       "        46,  23,  -7,  22,  25,  24,  31,  -9,  51,  17,  18,  71, -10])"
      ]
     },
     "execution_count": 6,
     "metadata": {},
     "output_type": "execute_result"
    }
   ],
   "source": [
    "dat4.ScanCount.unique()"
   ]
  },
  {
   "cell_type": "code",
   "execution_count": 7,
   "metadata": {},
   "outputs": [],
   "source": [
    "# 函数变换（np.log处理，当数值较大时可以采用此方法）\n",
    "dat4.loc[:,'sc_log'] = np.log(abs(dat4['ScanCount'])) * np.sign(dat4['ScanCount'])"
   ]
  },
  {
   "cell_type": "code",
   "execution_count": 8,
   "metadata": {},
   "outputs": [],
   "source": [
    "# 函数变换 (去中心化，减去均值)\n",
    "c = np.mean(dat3['ScanCount'])\n",
    "dat4.loc[:, 'sc_center'] = dat4['ScanCount'] - c"
   ]
  },
  {
   "cell_type": "code",
   "execution_count": 9,
   "metadata": {},
   "outputs": [],
   "source": [
    "# 函数变换（标准化，减去均值，再除以标准差，可以直接用StandardScaler\n",
    "standard_scaler = StandardScaler()\n",
    "dat4.loc[:,'sc_standard'] = standard_scaler.fit_transform(dat4[['ScanCount']].astype(float)) \n",
    "# dat3.ScanCount_center/np.std(dat3.ScanCount)"
   ]
  },
  {
   "cell_type": "code",
   "execution_count": 10,
   "metadata": {},
   "outputs": [],
   "source": [
    "# 函数变换（归一化，把数据变为0~1范围内，可以直接用MinMaxScaler\n",
    "minmax_scaler = MinMaxScaler()\n",
    "dat4.loc[:,'sc_minmax'] = minmax_scaler.fit_transform(dat4[['ScanCount']].astype(float)) "
   ]
  },
  {
   "cell_type": "code",
   "execution_count": 11,
   "metadata": {},
   "outputs": [],
   "source": [
    "# 函数变换（归一化，把数据变为-1~1范围内，可以直接用MaxAbsScaler\n",
    "maxabs_scaler = MaxAbsScaler()\n",
    "dat4.loc[:,'sc_absmax'] = maxabs_scaler.fit_transform(dat4[['ScanCount']].astype(float)) "
   ]
  },
  {
   "cell_type": "code",
   "execution_count": 12,
   "metadata": {},
   "outputs": [],
   "source": [
    "# 函数变换（如果数据中有异常值，可以用RobustScaler，它是减去中位数再除以四分位距离，避免了异常值的影响\n",
    "robust_scaler = RobustScaler()\n",
    "dat4.loc[:,'sc_robust'] = robust_scaler.fit_transform(dat4[['ScanCount']].astype(float)) \n",
    "# median = np.median(dat4['ScanCount'])\n",
    "# q25, q75 = np.quantile(dat4['ScanCount'], [0.25, 0.75], axis=0)\n",
    "# interval = q75 - q25\n",
    "# print(median, q25, q75, interval)"
   ]
  },
  {
   "cell_type": "code",
   "execution_count": 13,
   "metadata": {},
   "outputs": [
    {
     "data": {
      "text/html": [
       "<div>\n",
       "<style scoped>\n",
       "    .dataframe tbody tr th:only-of-type {\n",
       "        vertical-align: middle;\n",
       "    }\n",
       "\n",
       "    .dataframe tbody tr th {\n",
       "        vertical-align: top;\n",
       "    }\n",
       "\n",
       "    .dataframe thead th {\n",
       "        text-align: right;\n",
       "    }\n",
       "</style>\n",
       "<table border=\"1\" class=\"dataframe\">\n",
       "  <thead>\n",
       "    <tr style=\"text-align: right;\">\n",
       "      <th></th>\n",
       "      <th>ScanCount</th>\n",
       "      <th>Label</th>\n",
       "      <th>sc_log</th>\n",
       "      <th>sc_center</th>\n",
       "      <th>sc_standard</th>\n",
       "      <th>sc_minmax</th>\n",
       "      <th>sc_absmax</th>\n",
       "      <th>sc_robust</th>\n",
       "    </tr>\n",
       "  </thead>\n",
       "  <tbody>\n",
       "    <tr>\n",
       "      <th>count</th>\n",
       "      <td>642925.000000</td>\n",
       "      <td>642925.000000</td>\n",
       "      <td>642925.000000</td>\n",
       "      <td>6.429250e+05</td>\n",
       "      <td>6.429250e+05</td>\n",
       "      <td>642925.000000</td>\n",
       "      <td>642925.000000</td>\n",
       "      <td>642925.000000</td>\n",
       "    </tr>\n",
       "    <tr>\n",
       "      <th>mean</th>\n",
       "      <td>1.110203</td>\n",
       "      <td>0.270593</td>\n",
       "      <td>0.090475</td>\n",
       "      <td>-1.311416e-14</td>\n",
       "      <td>5.194841e-14</td>\n",
       "      <td>0.157954</td>\n",
       "      <td>0.015637</td>\n",
       "      <td>0.110203</td>\n",
       "    </tr>\n",
       "    <tr>\n",
       "      <th>std</th>\n",
       "      <td>0.701240</td>\n",
       "      <td>0.444267</td>\n",
       "      <td>0.283650</td>\n",
       "      <td>7.012401e-01</td>\n",
       "      <td>1.000001e+00</td>\n",
       "      <td>0.008449</td>\n",
       "      <td>0.009877</td>\n",
       "      <td>0.701240</td>\n",
       "    </tr>\n",
       "    <tr>\n",
       "      <th>min</th>\n",
       "      <td>-12.000000</td>\n",
       "      <td>0.000000</td>\n",
       "      <td>-2.484907</td>\n",
       "      <td>-1.311020e+01</td>\n",
       "      <td>-1.869576e+01</td>\n",
       "      <td>0.000000</td>\n",
       "      <td>-0.169014</td>\n",
       "      <td>-13.000000</td>\n",
       "    </tr>\n",
       "    <tr>\n",
       "      <th>25%</th>\n",
       "      <td>1.000000</td>\n",
       "      <td>0.000000</td>\n",
       "      <td>0.000000</td>\n",
       "      <td>-1.102026e-01</td>\n",
       "      <td>-1.571540e-01</td>\n",
       "      <td>0.156627</td>\n",
       "      <td>0.014085</td>\n",
       "      <td>0.000000</td>\n",
       "    </tr>\n",
       "    <tr>\n",
       "      <th>50%</th>\n",
       "      <td>1.000000</td>\n",
       "      <td>0.000000</td>\n",
       "      <td>0.000000</td>\n",
       "      <td>-1.102026e-01</td>\n",
       "      <td>-1.571540e-01</td>\n",
       "      <td>0.156627</td>\n",
       "      <td>0.014085</td>\n",
       "      <td>0.000000</td>\n",
       "    </tr>\n",
       "    <tr>\n",
       "      <th>75%</th>\n",
       "      <td>1.000000</td>\n",
       "      <td>1.000000</td>\n",
       "      <td>0.000000</td>\n",
       "      <td>-1.102026e-01</td>\n",
       "      <td>-1.571540e-01</td>\n",
       "      <td>0.156627</td>\n",
       "      <td>0.014085</td>\n",
       "      <td>0.000000</td>\n",
       "    </tr>\n",
       "    <tr>\n",
       "      <th>max</th>\n",
       "      <td>71.000000</td>\n",
       "      <td>1.000000</td>\n",
       "      <td>4.262680</td>\n",
       "      <td>6.988980e+01</td>\n",
       "      <td>9.966608e+01</td>\n",
       "      <td>1.000000</td>\n",
       "      <td>1.000000</td>\n",
       "      <td>70.000000</td>\n",
       "    </tr>\n",
       "  </tbody>\n",
       "</table>\n",
       "</div>"
      ],
      "text/plain": [
       "           ScanCount          Label         sc_log     sc_center  \\\n",
       "count  642925.000000  642925.000000  642925.000000  6.429250e+05   \n",
       "mean        1.110203       0.270593       0.090475 -1.311416e-14   \n",
       "std         0.701240       0.444267       0.283650  7.012401e-01   \n",
       "min       -12.000000       0.000000      -2.484907 -1.311020e+01   \n",
       "25%         1.000000       0.000000       0.000000 -1.102026e-01   \n",
       "50%         1.000000       0.000000       0.000000 -1.102026e-01   \n",
       "75%         1.000000       1.000000       0.000000 -1.102026e-01   \n",
       "max        71.000000       1.000000       4.262680  6.988980e+01   \n",
       "\n",
       "        sc_standard      sc_minmax      sc_absmax      sc_robust  \n",
       "count  6.429250e+05  642925.000000  642925.000000  642925.000000  \n",
       "mean   5.194841e-14       0.157954       0.015637       0.110203  \n",
       "std    1.000001e+00       0.008449       0.009877       0.701240  \n",
       "min   -1.869576e+01       0.000000      -0.169014     -13.000000  \n",
       "25%   -1.571540e-01       0.156627       0.014085       0.000000  \n",
       "50%   -1.571540e-01       0.156627       0.014085       0.000000  \n",
       "75%   -1.571540e-01       0.156627       0.014085       0.000000  \n",
       "max    9.966608e+01       1.000000       1.000000      70.000000  "
      ]
     },
     "execution_count": 13,
     "metadata": {},
     "output_type": "execute_result"
    }
   ],
   "source": [
    "dat4.describe()"
   ]
  },
  {
   "cell_type": "code",
   "execution_count": 14,
   "metadata": {},
   "outputs": [
    {
     "data": {
      "text/plain": [
       "array([-12.083,   4.6  ,  21.2  ,  37.8  ,  54.4  ,  71.   ])"
      ]
     },
     "execution_count": 14,
     "metadata": {},
     "output_type": "execute_result"
    }
   ],
   "source": [
    "# 等宽分箱：把变量的取值范围分为k个等宽的区间\n",
    "cut_by_width, bin_bywidth = pd.cut(dat4['ScanCount'], bins=5, retbins=True)\n",
    "bin_bywidth"
   ]
  },
  {
   "cell_type": "code",
   "execution_count": 15,
   "metadata": {},
   "outputs": [
    {
     "data": {
      "text/plain": [
       "array([-12.,   1.,  71.])"
      ]
     },
     "execution_count": 15,
     "metadata": {},
     "output_type": "execute_result"
    }
   ],
   "source": [
    "# 等深分箱：把变量的取值个数等分为k个部分\n",
    "cut_by_depth, bin_bydepth = pd.qcut(dat4['ScanCount'], q=5, retbins=True, duplicates='drop')\n",
    "# 这个例子里ScanCount中1取值个数有557712个，占实际总个数的87%（总个数642925），在使用等深分箱时需要设置duplicates参数，去除重复的1\n",
    "# 这里虽然设置了分箱数量是5，但由于1占比有87%，无法实现等深分箱，实际分完只有2个箱子\n",
    "bin_bydepth "
   ]
  },
  {
   "cell_type": "code",
   "execution_count": 16,
   "metadata": {},
   "outputs": [
    {
     "data": {
      "text/html": [
       "<div>\n",
       "<style scoped>\n",
       "    .dataframe tbody tr th:only-of-type {\n",
       "        vertical-align: middle;\n",
       "    }\n",
       "\n",
       "    .dataframe tbody tr th {\n",
       "        vertical-align: top;\n",
       "    }\n",
       "\n",
       "    .dataframe thead th {\n",
       "        text-align: right;\n",
       "    }\n",
       "</style>\n",
       "<table border=\"1\" class=\"dataframe\">\n",
       "  <thead>\n",
       "    <tr style=\"text-align: right;\">\n",
       "      <th></th>\n",
       "      <th>ScanCount</th>\n",
       "      <th>Label</th>\n",
       "      <th>sc_log</th>\n",
       "      <th>sc_center</th>\n",
       "      <th>sc_standard</th>\n",
       "      <th>sc_minmax</th>\n",
       "      <th>sc_absmax</th>\n",
       "      <th>sc_robust</th>\n",
       "      <th>sc_bin_width</th>\n",
       "      <th>sc_bin_depth</th>\n",
       "    </tr>\n",
       "  </thead>\n",
       "  <tbody>\n",
       "    <tr>\n",
       "      <th>0</th>\n",
       "      <td>-1</td>\n",
       "      <td>0.0</td>\n",
       "      <td>-0.000000</td>\n",
       "      <td>-2.110203</td>\n",
       "      <td>-3.009247</td>\n",
       "      <td>0.132530</td>\n",
       "      <td>-0.014085</td>\n",
       "      <td>-2.0</td>\n",
       "      <td>(-12.083, 4.6]</td>\n",
       "      <td>(-12.001, 1.0]</td>\n",
       "    </tr>\n",
       "    <tr>\n",
       "      <th>1</th>\n",
       "      <td>1</td>\n",
       "      <td>0.0</td>\n",
       "      <td>0.000000</td>\n",
       "      <td>-0.110203</td>\n",
       "      <td>-0.157154</td>\n",
       "      <td>0.156627</td>\n",
       "      <td>0.014085</td>\n",
       "      <td>0.0</td>\n",
       "      <td>(-12.083, 4.6]</td>\n",
       "      <td>(-12.001, 1.0]</td>\n",
       "    </tr>\n",
       "    <tr>\n",
       "      <th>2</th>\n",
       "      <td>1</td>\n",
       "      <td>0.0</td>\n",
       "      <td>0.000000</td>\n",
       "      <td>-0.110203</td>\n",
       "      <td>-0.157154</td>\n",
       "      <td>0.156627</td>\n",
       "      <td>0.014085</td>\n",
       "      <td>0.0</td>\n",
       "      <td>(-12.083, 4.6]</td>\n",
       "      <td>(-12.001, 1.0]</td>\n",
       "    </tr>\n",
       "    <tr>\n",
       "      <th>3</th>\n",
       "      <td>2</td>\n",
       "      <td>0.0</td>\n",
       "      <td>0.693147</td>\n",
       "      <td>0.889797</td>\n",
       "      <td>1.268892</td>\n",
       "      <td>0.168675</td>\n",
       "      <td>0.028169</td>\n",
       "      <td>1.0</td>\n",
       "      <td>(-12.083, 4.6]</td>\n",
       "      <td>(1.0, 71.0]</td>\n",
       "    </tr>\n",
       "    <tr>\n",
       "      <th>4</th>\n",
       "      <td>2</td>\n",
       "      <td>0.0</td>\n",
       "      <td>0.693147</td>\n",
       "      <td>0.889797</td>\n",
       "      <td>1.268892</td>\n",
       "      <td>0.168675</td>\n",
       "      <td>0.028169</td>\n",
       "      <td>1.0</td>\n",
       "      <td>(-12.083, 4.6]</td>\n",
       "      <td>(1.0, 71.0]</td>\n",
       "    </tr>\n",
       "  </tbody>\n",
       "</table>\n",
       "</div>"
      ],
      "text/plain": [
       "   ScanCount  Label    sc_log  sc_center  sc_standard  sc_minmax  sc_absmax  \\\n",
       "0         -1    0.0 -0.000000  -2.110203    -3.009247   0.132530  -0.014085   \n",
       "1          1    0.0  0.000000  -0.110203    -0.157154   0.156627   0.014085   \n",
       "2          1    0.0  0.000000  -0.110203    -0.157154   0.156627   0.014085   \n",
       "3          2    0.0  0.693147   0.889797     1.268892   0.168675   0.028169   \n",
       "4          2    0.0  0.693147   0.889797     1.268892   0.168675   0.028169   \n",
       "\n",
       "   sc_robust    sc_bin_width    sc_bin_depth  \n",
       "0       -2.0  (-12.083, 4.6]  (-12.001, 1.0]  \n",
       "1        0.0  (-12.083, 4.6]  (-12.001, 1.0]  \n",
       "2        0.0  (-12.083, 4.6]  (-12.001, 1.0]  \n",
       "3        1.0  (-12.083, 4.6]     (1.0, 71.0]  \n",
       "4        1.0  (-12.083, 4.6]     (1.0, 71.0]  "
      ]
     },
     "execution_count": 16,
     "metadata": {},
     "output_type": "execute_result"
    }
   ],
   "source": [
    "dat4.loc[:, 'sc_bin_width'] = cut_by_width\n",
    "dat4.loc[:, 'sc_bin_depth'] = cut_by_depth\n",
    "dat4.head()"
   ]
  },
  {
   "cell_type": "code",
   "execution_count": 17,
   "metadata": {},
   "outputs": [
    {
     "data": {
      "text/plain": [
       "(-12.083, 4.6]    639803\n",
       "(4.6, 21.2]         3105\n",
       "(21.2, 37.8]          14\n",
       "(37.8, 54.4]           2\n",
       "(54.4, 71.0]           1\n",
       "Name: sc_bin_width, dtype: int64"
      ]
     },
     "execution_count": 17,
     "metadata": {},
     "output_type": "execute_result"
    }
   ],
   "source": [
    "dat4.sc_bin_width.value_counts() # 等宽分箱"
   ]
  },
  {
   "cell_type": "code",
   "execution_count": 18,
   "metadata": {},
   "outputs": [
    {
     "data": {
      "text/plain": [
       "(-12.001, 1.0]    572920\n",
       "(1.0, 71.0]        70005\n",
       "Name: sc_bin_depth, dtype: int64"
      ]
     },
     "execution_count": 18,
     "metadata": {},
     "output_type": "execute_result"
    }
   ],
   "source": [
    "dat4.sc_bin_depth.value_counts() # 没有实现等深分箱"
   ]
  },
  {
   "cell_type": "code",
   "execution_count": 19,
   "metadata": {},
   "outputs": [],
   "source": [
    "# 这里ScanCount数量不多，可以不分箱，而是选择合并后再做OneHot"
   ]
  },
  {
   "cell_type": "code",
   "execution_count": 20,
   "metadata": {},
   "outputs": [
    {
     "data": {
      "text/html": [
       "<div>\n",
       "<style scoped>\n",
       "    .dataframe tbody tr th:only-of-type {\n",
       "        vertical-align: middle;\n",
       "    }\n",
       "\n",
       "    .dataframe tbody tr th {\n",
       "        vertical-align: top;\n",
       "    }\n",
       "\n",
       "    .dataframe thead th {\n",
       "        text-align: right;\n",
       "    }\n",
       "</style>\n",
       "<table border=\"1\" class=\"dataframe\">\n",
       "  <thead>\n",
       "    <tr style=\"text-align: right;\">\n",
       "      <th></th>\n",
       "      <th>variable</th>\n",
       "      <th>interval</th>\n",
       "      <th>flag_0</th>\n",
       "      <th>flag_1</th>\n",
       "    </tr>\n",
       "  </thead>\n",
       "  <tbody>\n",
       "    <tr>\n",
       "      <th>0</th>\n",
       "      <td>ScanCount</td>\n",
       "      <td>&lt;=-1.0</td>\n",
       "      <td>14097.0</td>\n",
       "      <td>1111.0</td>\n",
       "    </tr>\n",
       "    <tr>\n",
       "      <th>1</th>\n",
       "      <td>ScanCount</td>\n",
       "      <td>(-1.0,1.0]</td>\n",
       "      <td>407629.0</td>\n",
       "      <td>150083.0</td>\n",
       "    </tr>\n",
       "    <tr>\n",
       "      <th>2</th>\n",
       "      <td>ScanCount</td>\n",
       "      <td>(1.0,4.0]</td>\n",
       "      <td>45119.0</td>\n",
       "      <td>21764.0</td>\n",
       "    </tr>\n",
       "    <tr>\n",
       "      <th>3</th>\n",
       "      <td>ScanCount</td>\n",
       "      <td>(4.0,5.0]</td>\n",
       "      <td>969.0</td>\n",
       "      <td>410.0</td>\n",
       "    </tr>\n",
       "    <tr>\n",
       "      <th>4</th>\n",
       "      <td>ScanCount</td>\n",
       "      <td>&gt;5.0</td>\n",
       "      <td>1140.0</td>\n",
       "      <td>603.0</td>\n",
       "    </tr>\n",
       "  </tbody>\n",
       "</table>\n",
       "</div>"
      ],
      "text/plain": [
       "    variable    interval    flag_0    flag_1\n",
       "0  ScanCount      <=-1.0   14097.0    1111.0\n",
       "1  ScanCount  (-1.0,1.0]  407629.0  150083.0\n",
       "2  ScanCount   (1.0,4.0]   45119.0   21764.0\n",
       "3  ScanCount   (4.0,5.0]     969.0     410.0\n",
       "4  ScanCount        >5.0    1140.0     603.0"
      ]
     },
     "execution_count": 20,
     "metadata": {},
     "output_type": "execute_result"
    }
   ],
   "source": [
    "# 采用卡方合并\n",
    "varMergeByChiSquare(dat4, 'ScanCount', 'Label', bins=7)"
   ]
  },
  {
   "cell_type": "code",
   "execution_count": 21,
   "metadata": {},
   "outputs": [
    {
     "data": {
      "text/html": [
       "<div>\n",
       "<style scoped>\n",
       "    .dataframe tbody tr th:only-of-type {\n",
       "        vertical-align: middle;\n",
       "    }\n",
       "\n",
       "    .dataframe tbody tr th {\n",
       "        vertical-align: top;\n",
       "    }\n",
       "\n",
       "    .dataframe thead th {\n",
       "        text-align: right;\n",
       "    }\n",
       "</style>\n",
       "<table border=\"1\" class=\"dataframe\">\n",
       "  <thead>\n",
       "    <tr style=\"text-align: right;\">\n",
       "      <th></th>\n",
       "      <th>variable</th>\n",
       "      <th>interval</th>\n",
       "      <th>flag_0</th>\n",
       "      <th>flag_1</th>\n",
       "    </tr>\n",
       "  </thead>\n",
       "  <tbody>\n",
       "    <tr>\n",
       "      <th>0</th>\n",
       "      <td>ScanCount</td>\n",
       "      <td>&lt;=18.0</td>\n",
       "      <td>468933.0</td>\n",
       "      <td>173964.0</td>\n",
       "    </tr>\n",
       "    <tr>\n",
       "      <th>1</th>\n",
       "      <td>ScanCount</td>\n",
       "      <td>(18.0,19.0]</td>\n",
       "      <td>1.0</td>\n",
       "      <td>3.0</td>\n",
       "    </tr>\n",
       "    <tr>\n",
       "      <th>2</th>\n",
       "      <td>ScanCount</td>\n",
       "      <td>(19.0,23.0]</td>\n",
       "      <td>11.0</td>\n",
       "      <td>1.0</td>\n",
       "    </tr>\n",
       "    <tr>\n",
       "      <th>3</th>\n",
       "      <td>ScanCount</td>\n",
       "      <td>(23.0,24.0]</td>\n",
       "      <td>2.0</td>\n",
       "      <td>2.0</td>\n",
       "    </tr>\n",
       "    <tr>\n",
       "      <th>4</th>\n",
       "      <td>ScanCount</td>\n",
       "      <td>(24.0,46.0]</td>\n",
       "      <td>6.0</td>\n",
       "      <td>0.0</td>\n",
       "    </tr>\n",
       "    <tr>\n",
       "      <th>5</th>\n",
       "      <td>ScanCount</td>\n",
       "      <td>(46.0,51.0]</td>\n",
       "      <td>0.0</td>\n",
       "      <td>1.0</td>\n",
       "    </tr>\n",
       "    <tr>\n",
       "      <th>6</th>\n",
       "      <td>ScanCount</td>\n",
       "      <td>&gt;51.0</td>\n",
       "      <td>1.0</td>\n",
       "      <td>0.0</td>\n",
       "    </tr>\n",
       "  </tbody>\n",
       "</table>\n",
       "</div>"
      ],
      "text/plain": [
       "    variable     interval    flag_0    flag_1\n",
       "0  ScanCount       <=18.0  468933.0  173964.0\n",
       "1  ScanCount  (18.0,19.0]       1.0       3.0\n",
       "2  ScanCount  (19.0,23.0]      11.0       1.0\n",
       "3  ScanCount  (23.0,24.0]       2.0       2.0\n",
       "4  ScanCount  (24.0,46.0]       6.0       0.0\n",
       "5  ScanCount  (46.0,51.0]       0.0       1.0\n",
       "6  ScanCount        >51.0       1.0       0.0"
      ]
     },
     "execution_count": 21,
     "metadata": {},
     "output_type": "execute_result"
    }
   ],
   "source": [
    "# 采用正样本率合并\n",
    "varMergeByPct(dat4, 'ScanCount', 'Label', bins=7)"
   ]
  },
  {
   "cell_type": "code",
   "execution_count": 22,
   "metadata": {},
   "outputs": [
    {
     "data": {
      "text/html": [
       "<div>\n",
       "<style scoped>\n",
       "    .dataframe tbody tr th:only-of-type {\n",
       "        vertical-align: middle;\n",
       "    }\n",
       "\n",
       "    .dataframe tbody tr th {\n",
       "        vertical-align: top;\n",
       "    }\n",
       "\n",
       "    .dataframe thead th {\n",
       "        text-align: right;\n",
       "    }\n",
       "</style>\n",
       "<table border=\"1\" class=\"dataframe\">\n",
       "  <thead>\n",
       "    <tr style=\"text-align: right;\">\n",
       "      <th></th>\n",
       "      <th>variable</th>\n",
       "      <th>interval</th>\n",
       "      <th>flag_0</th>\n",
       "      <th>flag_1</th>\n",
       "    </tr>\n",
       "  </thead>\n",
       "  <tbody>\n",
       "    <tr>\n",
       "      <th>0</th>\n",
       "      <td>ScanCount</td>\n",
       "      <td>&lt;=-1.0</td>\n",
       "      <td>1111.0</td>\n",
       "      <td>14097.0</td>\n",
       "    </tr>\n",
       "    <tr>\n",
       "      <th>1</th>\n",
       "      <td>ScanCount</td>\n",
       "      <td>(-1.0,1.0]</td>\n",
       "      <td>150083.0</td>\n",
       "      <td>407629.0</td>\n",
       "    </tr>\n",
       "    <tr>\n",
       "      <th>2</th>\n",
       "      <td>ScanCount</td>\n",
       "      <td>(1.0,4.0]</td>\n",
       "      <td>21764.0</td>\n",
       "      <td>45119.0</td>\n",
       "    </tr>\n",
       "    <tr>\n",
       "      <th>3</th>\n",
       "      <td>ScanCount</td>\n",
       "      <td>(4.0,5.0]</td>\n",
       "      <td>410.0</td>\n",
       "      <td>969.0</td>\n",
       "    </tr>\n",
       "    <tr>\n",
       "      <th>4</th>\n",
       "      <td>ScanCount</td>\n",
       "      <td>(5.0,18.0]</td>\n",
       "      <td>596.0</td>\n",
       "      <td>1119.0</td>\n",
       "    </tr>\n",
       "    <tr>\n",
       "      <th>5</th>\n",
       "      <td>ScanCount</td>\n",
       "      <td>(18.0,19.0]</td>\n",
       "      <td>3.0</td>\n",
       "      <td>1.0</td>\n",
       "    </tr>\n",
       "    <tr>\n",
       "      <th>6</th>\n",
       "      <td>ScanCount</td>\n",
       "      <td>&gt;19.0</td>\n",
       "      <td>4.0</td>\n",
       "      <td>20.0</td>\n",
       "    </tr>\n",
       "  </tbody>\n",
       "</table>\n",
       "</div>"
      ],
      "text/plain": [
       "    variable     interval    flag_0    flag_1\n",
       "0  ScanCount       <=-1.0    1111.0   14097.0\n",
       "1  ScanCount   (-1.0,1.0]  150083.0  407629.0\n",
       "2  ScanCount    (1.0,4.0]   21764.0   45119.0\n",
       "3  ScanCount    (4.0,5.0]     410.0     969.0\n",
       "4  ScanCount   (5.0,18.0]     596.0    1119.0\n",
       "5  ScanCount  (18.0,19.0]       3.0       1.0\n",
       "6  ScanCount        >19.0       4.0      20.0"
      ]
     },
     "execution_count": 22,
     "metadata": {},
     "output_type": "execute_result"
    }
   ],
   "source": [
    "# 采用IV分割\n",
    "varMergeByIVSplit(dat4, 'ScanCount', 'Label', bins=7)"
   ]
  },
  {
   "cell_type": "code",
   "execution_count": 23,
   "metadata": {},
   "outputs": [],
   "source": [
    "# 上面ScanCount不是一个很好的例子，因为1的占比过大，分箱后箱子数量很少\n",
    "# 这里换一个变量FinelinNumber进行分箱-合并-OneHot的说明（不过也不是一个好例子， 因为FinelineNumber不是一个数值型，强硬转换为float了）\n",
    "dat5 = dat3[['FinelineNumber', 'Label']].copy()\n",
    "dat5.loc[:, 'FinelineNumber'] = dat3.FinelineNumber.astype(float)"
   ]
  },
  {
   "cell_type": "code",
   "execution_count": 24,
   "metadata": {},
   "outputs": [
    {
     "data": {
      "text/plain": [
       "array([    0.   ,   999.8  ,  1999.6  ,  2999.4  ,  3999.2  ,  4999.   ,\n",
       "        5998.8  ,  6998.6  ,  7998.4  ,  8998.2  , 10007.998])"
      ]
     },
     "execution_count": 24,
     "metadata": {},
     "output_type": "execute_result"
    }
   ],
   "source": [
    "# 等宽分箱：把变量的取值范围分为k个等宽的区间\n",
    "cut_by_width2, bin_bywidth2 = pd.cut(dat5['FinelineNumber'], bins=10, retbins=True, right=False) \n",
    "# 默认区间为左开有闭，这里设置right=False, 则分割区间为左币又开\n",
    "bin_bywidth2"
   ]
  },
  {
   "cell_type": "code",
   "execution_count": 25,
   "metadata": {},
   "outputs": [
    {
     "data": {
      "text/plain": [
       "array([   0.,  276., 1025., 1703., 2602., 3352., 4005., 4900., 6268.,\n",
       "       8101., 9998.])"
      ]
     },
     "execution_count": 25,
     "metadata": {},
     "output_type": "execute_result"
    }
   ],
   "source": [
    "# 等深分箱：把变量的取值个数等分为k个部分\n",
    "cut_by_depth2, bin_bydepth2 = pd.qcut(dat5['FinelineNumber'], q=10, retbins=True)\n",
    "bin_bydepth2"
   ]
  },
  {
   "cell_type": "code",
   "execution_count": 26,
   "metadata": {},
   "outputs": [
    {
     "data": {
      "text/html": [
       "<div>\n",
       "<style scoped>\n",
       "    .dataframe tbody tr th:only-of-type {\n",
       "        vertical-align: middle;\n",
       "    }\n",
       "\n",
       "    .dataframe tbody tr th {\n",
       "        vertical-align: top;\n",
       "    }\n",
       "\n",
       "    .dataframe thead th {\n",
       "        text-align: right;\n",
       "    }\n",
       "</style>\n",
       "<table border=\"1\" class=\"dataframe\">\n",
       "  <thead>\n",
       "    <tr style=\"text-align: right;\">\n",
       "      <th></th>\n",
       "      <th>FinelineNumber</th>\n",
       "      <th>Label</th>\n",
       "      <th>sc_bin_width</th>\n",
       "      <th>sc_bin_depth</th>\n",
       "    </tr>\n",
       "  </thead>\n",
       "  <tbody>\n",
       "    <tr>\n",
       "      <th>0</th>\n",
       "      <td>1000.0</td>\n",
       "      <td>0.0</td>\n",
       "      <td>[999.8, 1999.6)</td>\n",
       "      <td>(276.0, 1025.0]</td>\n",
       "    </tr>\n",
       "    <tr>\n",
       "      <th>1</th>\n",
       "      <td>8931.0</td>\n",
       "      <td>0.0</td>\n",
       "      <td>[7998.4, 8998.2)</td>\n",
       "      <td>(8101.0, 9998.0]</td>\n",
       "    </tr>\n",
       "    <tr>\n",
       "      <th>2</th>\n",
       "      <td>4504.0</td>\n",
       "      <td>0.0</td>\n",
       "      <td>[3999.2, 4999.0)</td>\n",
       "      <td>(4005.0, 4900.0]</td>\n",
       "    </tr>\n",
       "    <tr>\n",
       "      <th>3</th>\n",
       "      <td>3565.0</td>\n",
       "      <td>0.0</td>\n",
       "      <td>[2999.4, 3999.2)</td>\n",
       "      <td>(3352.0, 4005.0]</td>\n",
       "    </tr>\n",
       "    <tr>\n",
       "      <th>4</th>\n",
       "      <td>1017.0</td>\n",
       "      <td>0.0</td>\n",
       "      <td>[999.8, 1999.6)</td>\n",
       "      <td>(276.0, 1025.0]</td>\n",
       "    </tr>\n",
       "  </tbody>\n",
       "</table>\n",
       "</div>"
      ],
      "text/plain": [
       "   FinelineNumber  Label      sc_bin_width      sc_bin_depth\n",
       "0          1000.0    0.0   [999.8, 1999.6)   (276.0, 1025.0]\n",
       "1          8931.0    0.0  [7998.4, 8998.2)  (8101.0, 9998.0]\n",
       "2          4504.0    0.0  [3999.2, 4999.0)  (4005.0, 4900.0]\n",
       "3          3565.0    0.0  [2999.4, 3999.2)  (3352.0, 4005.0]\n",
       "4          1017.0    0.0   [999.8, 1999.6)   (276.0, 1025.0]"
      ]
     },
     "execution_count": 26,
     "metadata": {},
     "output_type": "execute_result"
    }
   ],
   "source": [
    "dat5.loc[:, 'sc_bin_width'] = cut_by_width2\n",
    "dat5.loc[:, 'sc_bin_depth'] = cut_by_depth2\n",
    "dat5.head()"
   ]
  },
  {
   "cell_type": "code",
   "execution_count": 27,
   "metadata": {},
   "outputs": [
    {
     "data": {
      "text/plain": [
       "[0.0, 999.8)           119685\n",
       "[2999.4, 3999.2)       104785\n",
       "[999.8, 1999.6)         92718\n",
       "[3999.2, 4999.0)        68963\n",
       "[1999.6, 2999.4)        66969\n",
       "[4999.0, 5998.8)        44784\n",
       "[8998.2, 10007.998)     41829\n",
       "[6998.6, 7998.4)        37957\n",
       "[7998.4, 8998.2)        32649\n",
       "[5998.8, 6998.6)        32586\n",
       "Name: sc_bin_width, dtype: int64"
      ]
     },
     "execution_count": 27,
     "metadata": {},
     "output_type": "execute_result"
    }
   ],
   "source": [
    "dat5.sc_bin_width.value_counts() # 等宽"
   ]
  },
  {
   "cell_type": "code",
   "execution_count": 28,
   "metadata": {},
   "outputs": [
    {
     "data": {
      "text/plain": [
       "(6268.0, 8101.0]    65668\n",
       "(3352.0, 4005.0]    64735\n",
       "(2602.0, 3352.0]    64535\n",
       "(-0.001, 276.0]     64375\n",
       "(1025.0, 1703.0]    64337\n",
       "(1703.0, 2602.0]    64324\n",
       "(276.0, 1025.0]     64253\n",
       "(4900.0, 6268.0]    64093\n",
       "(4005.0, 4900.0]    63699\n",
       "(8101.0, 9998.0]    62906\n",
       "Name: sc_bin_depth, dtype: int64"
      ]
     },
     "execution_count": 28,
     "metadata": {},
     "output_type": "execute_result"
    }
   ],
   "source": [
    "dat5.sc_bin_depth.value_counts() # 等深"
   ]
  },
  {
   "cell_type": "code",
   "execution_count": 29,
   "metadata": {},
   "outputs": [
    {
     "data": {
      "text/plain": [
       "sc_bin_depth\n",
       "(-0.001, 276.0]     64375\n",
       "(276.0, 1025.0]     64253\n",
       "(1025.0, 1703.0]    64337\n",
       "(1703.0, 2602.0]    64324\n",
       "(2602.0, 3352.0]    64535\n",
       "(3352.0, 4005.0]    64735\n",
       "(4005.0, 4900.0]    63699\n",
       "(4900.0, 6268.0]    64093\n",
       "(6268.0, 8101.0]    65668\n",
       "(8101.0, 9998.0]    62906\n",
       "Name: Label, dtype: int64"
      ]
     },
     "execution_count": 29,
     "metadata": {},
     "output_type": "execute_result"
    }
   ],
   "source": [
    "# 在分箱的基础上再进行合并，已减少箱子的数量\n",
    "# 例如在等深分箱的基础上合并，这时候sc_bin_depth实际上已经是类别变量，但是是有序的，要进行有序合并\n",
    "dat5.groupby('sc_bin_depth').Label.count() # 等深"
   ]
  },
  {
   "cell_type": "code",
   "execution_count": 30,
   "metadata": {},
   "outputs": [
    {
     "data": {
      "text/html": [
       "<div>\n",
       "<style scoped>\n",
       "    .dataframe tbody tr th:only-of-type {\n",
       "        vertical-align: middle;\n",
       "    }\n",
       "\n",
       "    .dataframe tbody tr th {\n",
       "        vertical-align: top;\n",
       "    }\n",
       "\n",
       "    .dataframe thead th {\n",
       "        text-align: right;\n",
       "    }\n",
       "</style>\n",
       "<table border=\"1\" class=\"dataframe\">\n",
       "  <thead>\n",
       "    <tr style=\"text-align: right;\">\n",
       "      <th></th>\n",
       "      <th>variable</th>\n",
       "      <th>interval</th>\n",
       "      <th>flag_0</th>\n",
       "      <th>flag_1</th>\n",
       "    </tr>\n",
       "  </thead>\n",
       "  <tbody>\n",
       "    <tr>\n",
       "      <th>0</th>\n",
       "      <td>sc_bin_depth</td>\n",
       "      <td>&lt;=1025.0</td>\n",
       "      <td>105440</td>\n",
       "      <td>23188</td>\n",
       "    </tr>\n",
       "    <tr>\n",
       "      <th>1</th>\n",
       "      <td>sc_bin_depth</td>\n",
       "      <td>(1025.0,2602.0]</td>\n",
       "      <td>90956</td>\n",
       "      <td>37705</td>\n",
       "    </tr>\n",
       "    <tr>\n",
       "      <th>2</th>\n",
       "      <td>sc_bin_depth</td>\n",
       "      <td>(2602.0,4900.0]</td>\n",
       "      <td>128681</td>\n",
       "      <td>64288</td>\n",
       "    </tr>\n",
       "    <tr>\n",
       "      <th>3</th>\n",
       "      <td>sc_bin_depth</td>\n",
       "      <td>(4900.0,6268.0]</td>\n",
       "      <td>49901</td>\n",
       "      <td>14192</td>\n",
       "    </tr>\n",
       "    <tr>\n",
       "      <th>4</th>\n",
       "      <td>sc_bin_depth</td>\n",
       "      <td>&gt;6268.0</td>\n",
       "      <td>93976</td>\n",
       "      <td>34598</td>\n",
       "    </tr>\n",
       "  </tbody>\n",
       "</table>\n",
       "</div>"
      ],
      "text/plain": [
       "       variable         interval  flag_0 flag_1\n",
       "0  sc_bin_depth         <=1025.0  105440  23188\n",
       "1  sc_bin_depth  (1025.0,2602.0]   90956  37705\n",
       "2  sc_bin_depth  (2602.0,4900.0]  128681  64288\n",
       "3  sc_bin_depth  (4900.0,6268.0]   49901  14192\n",
       "4  sc_bin_depth          >6268.0   93976  34598"
      ]
     },
     "execution_count": 30,
     "metadata": {},
     "output_type": "execute_result"
    }
   ],
   "source": [
    "#varMergeByChiSquare(dat5, 'sc_bin_depth', 'Label', bins=5)\n",
    "varMergeByChiSquare(dat5, 'sc_bin_depth', 'Label', bins=5, varInterval=True)\n",
    "# 设置varInterval会，返回结果会对区间进行合并"
   ]
  },
  {
   "cell_type": "code",
   "execution_count": 31,
   "metadata": {},
   "outputs": [
    {
     "data": {
      "text/html": [
       "<div>\n",
       "<style scoped>\n",
       "    .dataframe tbody tr th:only-of-type {\n",
       "        vertical-align: middle;\n",
       "    }\n",
       "\n",
       "    .dataframe tbody tr th {\n",
       "        vertical-align: top;\n",
       "    }\n",
       "\n",
       "    .dataframe thead th {\n",
       "        text-align: right;\n",
       "    }\n",
       "</style>\n",
       "<table border=\"1\" class=\"dataframe\">\n",
       "  <thead>\n",
       "    <tr style=\"text-align: right;\">\n",
       "      <th></th>\n",
       "      <th>variable</th>\n",
       "      <th>interval</th>\n",
       "      <th>flag_0</th>\n",
       "      <th>flag_1</th>\n",
       "    </tr>\n",
       "  </thead>\n",
       "  <tbody>\n",
       "    <tr>\n",
       "      <th>0</th>\n",
       "      <td>sc_bin_depth</td>\n",
       "      <td>&lt;=1025.0</td>\n",
       "      <td>105440</td>\n",
       "      <td>23188</td>\n",
       "    </tr>\n",
       "    <tr>\n",
       "      <th>1</th>\n",
       "      <td>sc_bin_depth</td>\n",
       "      <td>(1025.0,4900.0]</td>\n",
       "      <td>219637</td>\n",
       "      <td>101993</td>\n",
       "    </tr>\n",
       "    <tr>\n",
       "      <th>2</th>\n",
       "      <td>sc_bin_depth</td>\n",
       "      <td>(4900.0,6268.0]</td>\n",
       "      <td>49901</td>\n",
       "      <td>14192</td>\n",
       "    </tr>\n",
       "    <tr>\n",
       "      <th>3</th>\n",
       "      <td>sc_bin_depth</td>\n",
       "      <td>(6268.0,8101.0]</td>\n",
       "      <td>46584</td>\n",
       "      <td>19084</td>\n",
       "    </tr>\n",
       "    <tr>\n",
       "      <th>4</th>\n",
       "      <td>sc_bin_depth</td>\n",
       "      <td>&gt;8101.0</td>\n",
       "      <td>47392</td>\n",
       "      <td>15514</td>\n",
       "    </tr>\n",
       "  </tbody>\n",
       "</table>\n",
       "</div>"
      ],
      "text/plain": [
       "       variable         interval  flag_0  flag_1\n",
       "0  sc_bin_depth         <=1025.0  105440   23188\n",
       "1  sc_bin_depth  (1025.0,4900.0]  219637  101993\n",
       "2  sc_bin_depth  (4900.0,6268.0]   49901   14192\n",
       "3  sc_bin_depth  (6268.0,8101.0]   46584   19084\n",
       "4  sc_bin_depth          >8101.0   47392   15514"
      ]
     },
     "execution_count": 31,
     "metadata": {},
     "output_type": "execute_result"
    }
   ],
   "source": [
    "varMergeByPct(dat5, 'sc_bin_depth', 'Label', bins=5, varInterval=True)"
   ]
  },
  {
   "cell_type": "code",
   "execution_count": 32,
   "metadata": {},
   "outputs": [
    {
     "data": {
      "text/html": [
       "<div>\n",
       "<style scoped>\n",
       "    .dataframe tbody tr th:only-of-type {\n",
       "        vertical-align: middle;\n",
       "    }\n",
       "\n",
       "    .dataframe tbody tr th {\n",
       "        vertical-align: top;\n",
       "    }\n",
       "\n",
       "    .dataframe thead th {\n",
       "        text-align: right;\n",
       "    }\n",
       "</style>\n",
       "<table border=\"1\" class=\"dataframe\">\n",
       "  <thead>\n",
       "    <tr style=\"text-align: right;\">\n",
       "      <th></th>\n",
       "      <th>variable</th>\n",
       "      <th>interval</th>\n",
       "      <th>flag_0</th>\n",
       "      <th>flag_1</th>\n",
       "    </tr>\n",
       "  </thead>\n",
       "  <tbody>\n",
       "    <tr>\n",
       "      <th>0</th>\n",
       "      <td>sc_bin_depth</td>\n",
       "      <td>&lt;=1025.0</td>\n",
       "      <td>23188.0</td>\n",
       "      <td>105440.0</td>\n",
       "    </tr>\n",
       "    <tr>\n",
       "      <th>1</th>\n",
       "      <td>sc_bin_depth</td>\n",
       "      <td>(1025.0,2602.0]</td>\n",
       "      <td>37705.0</td>\n",
       "      <td>90956.0</td>\n",
       "    </tr>\n",
       "    <tr>\n",
       "      <th>2</th>\n",
       "      <td>sc_bin_depth</td>\n",
       "      <td>(2602.0,4900.0]</td>\n",
       "      <td>64288.0</td>\n",
       "      <td>128681.0</td>\n",
       "    </tr>\n",
       "    <tr>\n",
       "      <th>3</th>\n",
       "      <td>sc_bin_depth</td>\n",
       "      <td>(4900.0,6268.0]</td>\n",
       "      <td>14192.0</td>\n",
       "      <td>49901.0</td>\n",
       "    </tr>\n",
       "    <tr>\n",
       "      <th>4</th>\n",
       "      <td>sc_bin_depth</td>\n",
       "      <td>&gt;6268.0</td>\n",
       "      <td>34598.0</td>\n",
       "      <td>93976.0</td>\n",
       "    </tr>\n",
       "  </tbody>\n",
       "</table>\n",
       "</div>"
      ],
      "text/plain": [
       "       variable         interval   flag_0    flag_1\n",
       "0  sc_bin_depth         <=1025.0  23188.0  105440.0\n",
       "1  sc_bin_depth  (1025.0,2602.0]  37705.0   90956.0\n",
       "2  sc_bin_depth  (2602.0,4900.0]  64288.0  128681.0\n",
       "3  sc_bin_depth  (4900.0,6268.0]  14192.0   49901.0\n",
       "4  sc_bin_depth          >6268.0  34598.0   93976.0"
      ]
     },
     "execution_count": 32,
     "metadata": {},
     "output_type": "execute_result"
    }
   ],
   "source": [
    "varMergeByIVSplit(dat5, 'sc_bin_depth', 'Label', bins=5, varInterval=True)"
   ]
  },
  {
   "cell_type": "code",
   "execution_count": 33,
   "metadata": {},
   "outputs": [],
   "source": [
    "intervals = [1025, 2602, 4900, 6268] # 获取合并的位置， 这里使用了IV分割选取的位置\n",
    "\n",
    "for i in range(len(intervals)+1):\n",
    "    if i == 0:\n",
    "        dat5.loc[dat5['FinelineNumber']<=intervals[i], 'merge_after_bin'] = i\n",
    "    elif i == len(intervals):\n",
    "        dat5.loc[dat5['FinelineNumber']>intervals[i-1], 'merge_after_bin'] = i\n",
    "    else:\n",
    "        dat5.loc[(dat5['FinelineNumber']>intervals[i-1])&(dat5['FinelineNumber']<=intervals[i]), 'merge_after_bin'] = i"
   ]
  },
  {
   "cell_type": "code",
   "execution_count": 34,
   "metadata": {},
   "outputs": [
    {
     "data": {
      "text/html": [
       "<div>\n",
       "<style scoped>\n",
       "    .dataframe tbody tr th:only-of-type {\n",
       "        vertical-align: middle;\n",
       "    }\n",
       "\n",
       "    .dataframe tbody tr th {\n",
       "        vertical-align: top;\n",
       "    }\n",
       "\n",
       "    .dataframe thead th {\n",
       "        text-align: right;\n",
       "    }\n",
       "</style>\n",
       "<table border=\"1\" class=\"dataframe\">\n",
       "  <thead>\n",
       "    <tr style=\"text-align: right;\">\n",
       "      <th></th>\n",
       "      <th>FinelineNumber</th>\n",
       "      <th>Label</th>\n",
       "      <th>sc_bin_width</th>\n",
       "      <th>sc_bin_depth</th>\n",
       "      <th>merge_after_bin</th>\n",
       "    </tr>\n",
       "  </thead>\n",
       "  <tbody>\n",
       "    <tr>\n",
       "      <th>0</th>\n",
       "      <td>1000.0</td>\n",
       "      <td>0.0</td>\n",
       "      <td>[999.8, 1999.6)</td>\n",
       "      <td>(276.0, 1025.0]</td>\n",
       "      <td>0.0</td>\n",
       "    </tr>\n",
       "    <tr>\n",
       "      <th>1</th>\n",
       "      <td>8931.0</td>\n",
       "      <td>0.0</td>\n",
       "      <td>[7998.4, 8998.2)</td>\n",
       "      <td>(8101.0, 9998.0]</td>\n",
       "      <td>4.0</td>\n",
       "    </tr>\n",
       "    <tr>\n",
       "      <th>2</th>\n",
       "      <td>4504.0</td>\n",
       "      <td>0.0</td>\n",
       "      <td>[3999.2, 4999.0)</td>\n",
       "      <td>(4005.0, 4900.0]</td>\n",
       "      <td>2.0</td>\n",
       "    </tr>\n",
       "    <tr>\n",
       "      <th>3</th>\n",
       "      <td>3565.0</td>\n",
       "      <td>0.0</td>\n",
       "      <td>[2999.4, 3999.2)</td>\n",
       "      <td>(3352.0, 4005.0]</td>\n",
       "      <td>2.0</td>\n",
       "    </tr>\n",
       "    <tr>\n",
       "      <th>4</th>\n",
       "      <td>1017.0</td>\n",
       "      <td>0.0</td>\n",
       "      <td>[999.8, 1999.6)</td>\n",
       "      <td>(276.0, 1025.0]</td>\n",
       "      <td>0.0</td>\n",
       "    </tr>\n",
       "  </tbody>\n",
       "</table>\n",
       "</div>"
      ],
      "text/plain": [
       "   FinelineNumber  Label      sc_bin_width      sc_bin_depth  merge_after_bin\n",
       "0          1000.0    0.0   [999.8, 1999.6)   (276.0, 1025.0]              0.0\n",
       "1          8931.0    0.0  [7998.4, 8998.2)  (8101.0, 9998.0]              4.0\n",
       "2          4504.0    0.0  [3999.2, 4999.0)  (4005.0, 4900.0]              2.0\n",
       "3          3565.0    0.0  [2999.4, 3999.2)  (3352.0, 4005.0]              2.0\n",
       "4          1017.0    0.0   [999.8, 1999.6)   (276.0, 1025.0]              0.0"
      ]
     },
     "execution_count": 34,
     "metadata": {},
     "output_type": "execute_result"
    }
   ],
   "source": [
    "dat5.head()"
   ]
  },
  {
   "cell_type": "code",
   "execution_count": 35,
   "metadata": {},
   "outputs": [
    {
     "data": {
      "text/plain": [
       "10"
      ]
     },
     "execution_count": 35,
     "metadata": {},
     "output_type": "execute_result"
    }
   ],
   "source": [
    "len(dat5.sc_bin_depth.unique())"
   ]
  },
  {
   "cell_type": "code",
   "execution_count": 36,
   "metadata": {},
   "outputs": [
    {
     "data": {
      "text/plain": [
       "5"
      ]
     },
     "execution_count": 36,
     "metadata": {},
     "output_type": "execute_result"
    }
   ],
   "source": [
    "len(dat5.merge_after_bin.unique()) # 合并减少了分箱后的数量"
   ]
  },
  {
   "cell_type": "code",
   "execution_count": 37,
   "metadata": {},
   "outputs": [
    {
     "data": {
      "text/html": [
       "<div>\n",
       "<style scoped>\n",
       "    .dataframe tbody tr th:only-of-type {\n",
       "        vertical-align: middle;\n",
       "    }\n",
       "\n",
       "    .dataframe tbody tr th {\n",
       "        vertical-align: top;\n",
       "    }\n",
       "\n",
       "    .dataframe thead th {\n",
       "        text-align: right;\n",
       "    }\n",
       "</style>\n",
       "<table border=\"1\" class=\"dataframe\">\n",
       "  <thead>\n",
       "    <tr style=\"text-align: right;\">\n",
       "      <th></th>\n",
       "      <th>1.0</th>\n",
       "      <th>2.0</th>\n",
       "      <th>3.0</th>\n",
       "      <th>4.0</th>\n",
       "    </tr>\n",
       "  </thead>\n",
       "  <tbody>\n",
       "    <tr>\n",
       "      <th>0</th>\n",
       "      <td>0</td>\n",
       "      <td>0</td>\n",
       "      <td>0</td>\n",
       "      <td>0</td>\n",
       "    </tr>\n",
       "    <tr>\n",
       "      <th>1</th>\n",
       "      <td>0</td>\n",
       "      <td>0</td>\n",
       "      <td>0</td>\n",
       "      <td>1</td>\n",
       "    </tr>\n",
       "    <tr>\n",
       "      <th>2</th>\n",
       "      <td>0</td>\n",
       "      <td>1</td>\n",
       "      <td>0</td>\n",
       "      <td>0</td>\n",
       "    </tr>\n",
       "    <tr>\n",
       "      <th>3</th>\n",
       "      <td>0</td>\n",
       "      <td>1</td>\n",
       "      <td>0</td>\n",
       "      <td>0</td>\n",
       "    </tr>\n",
       "    <tr>\n",
       "      <th>4</th>\n",
       "      <td>0</td>\n",
       "      <td>0</td>\n",
       "      <td>0</td>\n",
       "      <td>0</td>\n",
       "    </tr>\n",
       "  </tbody>\n",
       "</table>\n",
       "</div>"
      ],
      "text/plain": [
       "   1.0  2.0  3.0  4.0\n",
       "0    0    0    0    0\n",
       "1    0    0    0    1\n",
       "2    0    1    0    0\n",
       "3    0    1    0    0\n",
       "4    0    0    0    0"
      ]
     },
     "execution_count": 37,
     "metadata": {},
     "output_type": "execute_result"
    }
   ],
   "source": [
    "# 分箱->[合并]->OneHot\n",
    "onehot = pd.get_dummies(dat5['merge_after_bin'], drop_first=True)\n",
    "onehot.head()"
   ]
  },
  {
   "cell_type": "code",
   "execution_count": 38,
   "metadata": {},
   "outputs": [],
   "source": [
    "# 分箱->[合并]->WOE编码\n",
    "woe = categoryToWOE(dat5, 'merge_after_bin', 'Label', varOrder=True)"
   ]
  },
  {
   "cell_type": "code",
   "execution_count": 39,
   "metadata": {},
   "outputs": [
    {
     "data": {
      "text/html": [
       "<div>\n",
       "<style scoped>\n",
       "    .dataframe tbody tr th:only-of-type {\n",
       "        vertical-align: middle;\n",
       "    }\n",
       "\n",
       "    .dataframe tbody tr th {\n",
       "        vertical-align: top;\n",
       "    }\n",
       "\n",
       "    .dataframe thead th {\n",
       "        text-align: right;\n",
       "    }\n",
       "</style>\n",
       "<table border=\"1\" class=\"dataframe\">\n",
       "  <thead>\n",
       "    <tr style=\"text-align: right;\">\n",
       "      <th></th>\n",
       "      <th>merge_after_bin</th>\n",
       "      <th>WOE</th>\n",
       "    </tr>\n",
       "  </thead>\n",
       "  <tbody>\n",
       "    <tr>\n",
       "      <th>0</th>\n",
       "      <td>0.0</td>\n",
       "      <td>-0.522891</td>\n",
       "    </tr>\n",
       "    <tr>\n",
       "      <th>1</th>\n",
       "      <td>1.0</td>\n",
       "      <td>0.111033</td>\n",
       "    </tr>\n",
       "    <tr>\n",
       "      <th>2</th>\n",
       "      <td>2.0</td>\n",
       "      <td>0.297653</td>\n",
       "    </tr>\n",
       "    <tr>\n",
       "      <th>3</th>\n",
       "      <td>3.0</td>\n",
       "      <td>-0.265747</td>\n",
       "    </tr>\n",
       "    <tr>\n",
       "      <th>4</th>\n",
       "      <td>4.0</td>\n",
       "      <td>-0.007627</td>\n",
       "    </tr>\n",
       "  </tbody>\n",
       "</table>\n",
       "</div>"
      ],
      "text/plain": [
       "  merge_after_bin       WOE\n",
       "0             0.0 -0.522891\n",
       "1             1.0  0.111033\n",
       "2             2.0  0.297653\n",
       "3             3.0 -0.265747\n",
       "4             4.0 -0.007627"
      ]
     },
     "execution_count": 39,
     "metadata": {},
     "output_type": "execute_result"
    }
   ],
   "source": [
    "woe"
   ]
  },
  {
   "cell_type": "code",
   "execution_count": 40,
   "metadata": {},
   "outputs": [
    {
     "data": {
      "text/html": [
       "<div>\n",
       "<style scoped>\n",
       "    .dataframe tbody tr th:only-of-type {\n",
       "        vertical-align: middle;\n",
       "    }\n",
       "\n",
       "    .dataframe tbody tr th {\n",
       "        vertical-align: top;\n",
       "    }\n",
       "\n",
       "    .dataframe thead th {\n",
       "        text-align: right;\n",
       "    }\n",
       "</style>\n",
       "<table border=\"1\" class=\"dataframe\">\n",
       "  <thead>\n",
       "    <tr style=\"text-align: right;\">\n",
       "      <th></th>\n",
       "      <th>sc_bin_width</th>\n",
       "      <th>WOE</th>\n",
       "    </tr>\n",
       "  </thead>\n",
       "  <tbody>\n",
       "    <tr>\n",
       "      <th>0</th>\n",
       "      <td>[0.0, 999.8)</td>\n",
       "      <td>-0.538108</td>\n",
       "    </tr>\n",
       "    <tr>\n",
       "      <th>1</th>\n",
       "      <td>[1999.6, 2999.4)</td>\n",
       "      <td>0.309603</td>\n",
       "    </tr>\n",
       "    <tr>\n",
       "      <th>2</th>\n",
       "      <td>[2999.4, 3999.2)</td>\n",
       "      <td>0.267284</td>\n",
       "    </tr>\n",
       "    <tr>\n",
       "      <th>3</th>\n",
       "      <td>[3999.2, 4999.0)</td>\n",
       "      <td>0.184809</td>\n",
       "    </tr>\n",
       "    <tr>\n",
       "      <th>4</th>\n",
       "      <td>[4999.0, 5998.8)</td>\n",
       "      <td>-0.276587</td>\n",
       "    </tr>\n",
       "    <tr>\n",
       "      <th>5</th>\n",
       "      <td>[5998.8, 6998.6)</td>\n",
       "      <td>-0.195808</td>\n",
       "    </tr>\n",
       "    <tr>\n",
       "      <th>6</th>\n",
       "      <td>[6998.6, 7998.4)</td>\n",
       "      <td>0.394169</td>\n",
       "    </tr>\n",
       "    <tr>\n",
       "      <th>7</th>\n",
       "      <td>[7998.4, 8998.2)</td>\n",
       "      <td>-0.453289</td>\n",
       "    </tr>\n",
       "    <tr>\n",
       "      <th>8</th>\n",
       "      <td>[8998.2, 10007.998)</td>\n",
       "      <td>-0.027627</td>\n",
       "    </tr>\n",
       "    <tr>\n",
       "      <th>9</th>\n",
       "      <td>[999.8, 1999.6)</td>\n",
       "      <td>0.072953</td>\n",
       "    </tr>\n",
       "  </tbody>\n",
       "</table>\n",
       "</div>"
      ],
      "text/plain": [
       "          sc_bin_width       WOE\n",
       "0         [0.0, 999.8) -0.538108\n",
       "1     [1999.6, 2999.4)  0.309603\n",
       "2     [2999.4, 3999.2)  0.267284\n",
       "3     [3999.2, 4999.0)  0.184809\n",
       "4     [4999.0, 5998.8) -0.276587\n",
       "5     [5998.8, 6998.6) -0.195808\n",
       "6     [6998.6, 7998.4)  0.394169\n",
       "7     [7998.4, 8998.2) -0.453289\n",
       "8  [8998.2, 10007.998) -0.027627\n",
       "9      [999.8, 1999.6)  0.072953"
      ]
     },
     "execution_count": 40,
     "metadata": {},
     "output_type": "execute_result"
    }
   ],
   "source": [
    "categoryToWOE(dat5, 'sc_bin_width', 'Label', varOrder=True)"
   ]
  }
 ],
 "metadata": {
  "kernelspec": {
   "display_name": "Python 3",
   "language": "python",
   "name": "python3"
  },
  "language_info": {
   "codemirror_mode": {
    "name": "ipython",
    "version": 3
   },
   "file_extension": ".py",
   "mimetype": "text/x-python",
   "name": "python",
   "nbconvert_exporter": "python",
   "pygments_lexer": "ipython3",
   "version": "3.7.1"
  }
 },
 "nbformat": 4,
 "nbformat_minor": 2
}
